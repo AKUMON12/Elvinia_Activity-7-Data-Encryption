{
  "nbformat": 4,
  "nbformat_minor": 0,
  "metadata": {
    "colab": {
      "provenance": [],
      "authorship_tag": "ABX9TyP352OqBDHhAOU04+DhZOzh",
      "include_colab_link": true
    },
    "kernelspec": {
      "name": "python3",
      "display_name": "Python 3"
    },
    "language_info": {
      "name": "python"
    }
  },
  "cells": [
    {
      "cell_type": "markdown",
      "metadata": {
        "id": "view-in-github",
        "colab_type": "text"
      },
      "source": [
        "<a href=\"https://colab.research.google.com/github/AKUMON12/Elvinia_Activity-7-Data-Encryption/blob/master/Elvinia_Lab4Activity.ipynb\" target=\"_parent\"><img src=\"https://colab.research.google.com/assets/colab-badge.svg\" alt=\"Open In Colab\"/></a>"
      ]
    },
    {
      "cell_type": "code",
      "execution_count": 1,
      "metadata": {
        "colab": {
          "base_uri": "https://localhost:8080/"
        },
        "id": "usR-1q7x5uBl",
        "outputId": "a7b5df61-d324-4919-fb49-fd9fcc9a4a1d"
      },
      "outputs": [
        {
          "output_type": "stream",
          "name": "stdout",
          "text": [
            "Synthetic dataset 'loan_approval_data.csv' created successfully.\n"
          ]
        }
      ],
      "source": [
        "import pandas as pd\n",
        "import numpy as np\n",
        "\n",
        "# Set random seed for reproducibility\n",
        "np.random.seed(42)\n",
        "\n",
        "# Generate synthetic data for loan approval\n",
        "data = {\n",
        "    'Loan_ID': np.arange(1, 101),\n",
        "    'Gender': np.random.choice(['Male', 'Female'], 100),\n",
        "    'Married': np.random.choice(['Yes', 'No'], 100),\n",
        "    'Dependents': np.random.choice([0, 1, 2, 3], 100),\n",
        "    'Education': np.random.choice(['Graduate', 'Not Graduate'], 100),\n",
        "    'ApplicantIncome': np.random.randint(2000, 15000, 100),\n",
        "    'CoapplicantIncome': np.random.randint(0, 5000, 100),\n",
        "    'LoanAmount': np.random.randint(100, 700, 100),\n",
        "    'Loan_Amount_Term': np.random.choice([360, 180, 120], 100),\n",
        "    'Credit_History': np.random.choice([1, 0], 100),\n",
        "    'Property_Area': np.random.choice(['Urban', 'Semiurban', 'Rural'], 100),\n",
        "    'Loan_Status': np.random.choice(['Y', 'N'], 100)\n",
        "}\n",
        "\n",
        "# Create a DataFrame\n",
        "loan_data = pd.DataFrame(data)\n",
        "\n",
        "# Save the dataset as a CSV file\n",
        "loan_data.to_csv('loan_approval_data.csv', index=False)\n",
        "\n",
        "print(\"Synthetic dataset 'loan_approval_data.csv' created successfully.\")"
      ]
    },
    {
      "cell_type": "code",
      "source": [
        "import pandas as pd\n",
        "from sklearn.model_selection import train_test_split\n",
        "from sklearn.tree import DecisionTreeClassifier\n",
        "from sklearn.metrics import accuracy_score, confusion_matrix\n",
        "\n",
        "# Load synthetic dataset (or downloaded one)\n",
        "url = 'loan_approval_data.csv'\n",
        "df = pd.read_csv(url)\n",
        "\n",
        "# Preprocessing: Encode categorical data\n",
        "df_encoded = pd.get_dummies(df, drop_first=True)\n",
        "\n",
        "# Features and target\n",
        "X = df_encoded.drop('Loan_Status_Y', axis=1)\n",
        "y = df_encoded['Loan_Status_Y']\n",
        "\n",
        "# Split the dataset\n",
        "X_train, X_test, y_train, y_test = train_test_split(X, y, test_size=0.3, random_state=42)\n",
        "\n",
        "# Train decision tree model\n",
        "clf = DecisionTreeClassifier()\n",
        "clf.fit(X_train, y_train)\n",
        "\n",
        "# Make predictions\n",
        "y_pred = clf.predict(X_test)\n",
        "\n",
        "# Evaluate model\n",
        "print(\"Accuracy:\", accuracy_score(y_test, y_pred))\n",
        "print(\"Confusion Matrix:\\n\", confusion_matrix(y_test, y_pred))"
      ],
      "metadata": {
        "colab": {
          "base_uri": "https://localhost:8080/"
        },
        "id": "e-jOHR1z8Tfd",
        "outputId": "fb6a7c05-1a30-432e-87d6-0df11b0dcf47"
      },
      "execution_count": 2,
      "outputs": [
        {
          "output_type": "stream",
          "name": "stdout",
          "text": [
            "Accuracy: 0.43333333333333335\n",
            "Confusion Matrix:\n",
            " [[ 7  6]\n",
            " [11  6]]\n"
          ]
        }
      ]
    },
    {
      "cell_type": "code",
      "source": [
        "import pandas as pd\n",
        "from sklearn.model_selection import train_test_split\n",
        "from sklearn.tree import DecisionTreeClassifier\n",
        "from sklearn.metrics import accuracy_score, confusion_matrix\n",
        "\n",
        "# Load synthetic dataset (or downloaded one)\n",
        "url = 'loan_approval_data.csv'\n",
        "df = pd.read_csv(url)\n",
        "\n",
        "# Preprocessing: Encode categorical data\n",
        "df_encoded = pd.get_dummies(df, drop_first=True)\n",
        "\n",
        "# Features and target\n",
        "X = df_encoded.drop('Loan_Status_Y', axis=1)\n",
        "y = df_encoded['Loan_Status_Y']\n",
        "\n",
        "# Corrected split\n",
        "X_train, X_test, y_train, y_test = train_test_split(X, y, test_size=0.3, random_state=42)\n",
        "\n",
        "# Train decision tree model\n",
        "clf = DecisionTreeClassifier()\n",
        "clf.fit(X_train, y_train)\n",
        "\n",
        "# Make predictions\n",
        "y_pred = clf.predict(X_test)\n",
        "\n",
        "# Evaluate model\n",
        "print(\"Accuracy:\", accuracy_score(y_test, y_pred))\n",
        "print(\"Confusion Matrix:\\n\", confusion_matrix(y_test, y_pred))"
      ],
      "metadata": {
        "colab": {
          "base_uri": "https://localhost:8080/"
        },
        "id": "mUQkzO-p-08v",
        "outputId": "a520c9e6-3605-48fb-e7ea-950d1346d6c6"
      },
      "execution_count": 3,
      "outputs": [
        {
          "output_type": "stream",
          "name": "stdout",
          "text": [
            "Accuracy: 0.43333333333333335\n",
            "Confusion Matrix:\n",
            " [[ 6  7]\n",
            " [10  7]]\n"
          ]
        }
      ]
    },
    {
      "cell_type": "code",
      "source": [
        "# Add predictions to test set for analysis\n",
        "test_with_predictions = X_test.copy()\n",
        "test_with_predictions['Actual_Gender'] = df.iloc[y_test.index]['Gender']  # Get original gender\n",
        "test_with_predictions['Predicted_Loan_Status'] = y_pred\n",
        "\n",
        "# Calculate approval rates by gender\n",
        "gender_bias_check = test_with_predictions.groupby('Actual_Gender')['Predicted_Loan_Status'].mean()\n",
        "print(\"Approval Rate by Gender:\")\n",
        "print(gender_bias_check)"
      ],
      "metadata": {
        "colab": {
          "base_uri": "https://localhost:8080/"
        },
        "id": "a3bS4c4M_fe4",
        "outputId": "9a069440-91b6-4377-a222-321bf2bf58f3"
      },
      "execution_count": 4,
      "outputs": [
        {
          "output_type": "stream",
          "name": "stdout",
          "text": [
            "Approval Rate by Gender:\n",
            "Actual_Gender\n",
            "Female    0.526316\n",
            "Male      0.363636\n",
            "Name: Predicted_Loan_Status, dtype: float64\n"
          ]
        }
      ]
    },
    {
      "cell_type": "code",
      "source": [
        "from sklearn.utils import resample\n",
        "\n",
        "# Resample the minority class (Female)\n",
        "df_minority = df[df['Gender'] == 'Female']\n",
        "df_majority = df[df['Gender'] == 'Male']\n",
        "\n",
        "df_minority_upsampled = resample(df_minority, replace=True, n_samples=len(df_majority), random_state=42)\n",
        "df_balanced = pd.concat([df_majority, df_minority_upsampled])\n",
        "\n",
        "# Preprocess the balanced dataset\n",
        "df_balanced_encoded = pd.get_dummies(df_balanced, drop_first=True)\n",
        "\n",
        "# Features and target\n",
        "X_bal = df_balanced_encoded.drop('Loan_Status_Y', axis=1)\n",
        "y_bal = df_balanced_encoded['Loan_Status_Y']\n",
        "\n",
        "# Split and retrain the model\n",
        "X_train_bal, X_test_bal, y_train_bal, y_test_bal = train_test_split(X_bal, y_bal, test_size=0.3, random_state=42)\n",
        "clf_bal = DecisionTreeClassifier()\n",
        "clf_bal.fit(X_train_bal, y_train_bal)\n",
        "\n",
        "# Evaluate balanced model\n",
        "y_pred_bal = clf_bal.predict(X_test_bal)\n",
        "print(\"Balanced Accuracy:\", accuracy_score(y_test_bal, y_pred_bal))\n",
        "print(\"Confusion Matrix:\\n\", confusion_matrix(y_test_bal, y_pred_bal))"
      ],
      "metadata": {
        "colab": {
          "base_uri": "https://localhost:8080/"
        },
        "id": "OXOVajAKAibL",
        "outputId": "21c5fd39-b6d2-401f-b4a7-410545d18f00"
      },
      "execution_count": 5,
      "outputs": [
        {
          "output_type": "stream",
          "name": "stdout",
          "text": [
            "Balanced Accuracy: 0.48148148148148145\n",
            "Confusion Matrix:\n",
            " [[ 2  8]\n",
            " [ 6 11]]\n"
          ]
        }
      ]
    },
    {
      "cell_type": "code",
      "source": [
        "# Check fairness in balanced model\n",
        "balanced_test_with_predictions = X_test_bal.copy()\n",
        "\n",
        "# Get the original indices from X_test_bal before resetting\n",
        "original_indices = X_test_bal.index\n",
        "\n",
        "# Reset index of X_test_bal for correct alignment\n",
        "balanced_test_with_predictions = balanced_test_with_predictions.reset_index(drop=True)\n",
        "y_test_bal_reset = y_test_bal.reset_index(drop=True)\n",
        "\n",
        "# Use the original indices to get the 'Gender' column from df_balanced\n",
        "balanced_test_with_predictions['Actual_Gender'] = df_balanced.loc[original_indices, 'Gender'].reset_index(drop=True)\n",
        "balanced_test_with_predictions['Predicted_Loan_Status'] = y_pred_bal\n",
        "\n",
        "balanced_fairness = balanced_test_with_predictions.groupby('Actual_Gender')['Predicted_Loan_Status'].mean()\n",
        "print(\"Approval Rate by Gender (Balanced Model):\")\n",
        "print(balanced_fairness)"
      ],
      "metadata": {
        "colab": {
          "base_uri": "https://localhost:8080/"
        },
        "id": "_UZ4YJrXA4Oo",
        "outputId": "9f9a3648-91fe-41d2-9313-a3b8e8684a70"
      },
      "execution_count": 8,
      "outputs": [
        {
          "output_type": "stream",
          "name": "stdout",
          "text": [
            "Approval Rate by Gender (Balanced Model):\n",
            "Actual_Gender\n",
            "Female    0.736842\n",
            "Male      0.625000\n",
            "Name: Predicted_Loan_Status, dtype: float64\n"
          ]
        }
      ]
    },
    {
      "cell_type": "code",
      "source": [
        "# Remove PII (Loan_ID, Name, etc.)\n",
        "df_no_pii = df.drop(['Loan_ID'], axis=1)\n",
        "\n",
        "# Preprocess the dataset without PII\n",
        "df_no_pii_encoded = pd.get_dummies(df_no_pii, drop_first=True)\n",
        "\n",
        "# Features and target\n",
        "X_no_pii = df_no_pii_encoded.drop('Loan_Status_Y', axis=1)\n",
        "y_no_pii = df_no_pii_encoded['Loan_Status_Y']\n",
        "\n",
        "# Split and retrain the model\n",
        "X_train_no_pii, X_test_no_pii, y_train_no_pii, y_test_no_pii = train_test_split(X_no_pii, y_no_pii, test_size=0.3, random_state=42)\n",
        "clf_no_pii = DecisionTreeClassifier()\n",
        "clf_no_pii.fit(X_train_no_pii, y_train_no_pii)\n",
        "\n",
        "# Evaluate model without PII\n",
        "y_pred_no_pii = clf_no_pii.predict(X_test_no_pii)\n",
        "print(\"Accuracy without PII:\", accuracy_score(y_test_no_pii, y_pred_no_pii))"
      ],
      "metadata": {
        "colab": {
          "base_uri": "https://localhost:8080/"
        },
        "id": "r7SlRH4LBbw-",
        "outputId": "eedbef1b-3442-4fef-ecb2-5e7f7f505017"
      },
      "execution_count": 9,
      "outputs": [
        {
          "output_type": "stream",
          "name": "stdout",
          "text": [
            "Accuracy without PII: 0.4\n"
          ]
        }
      ]
    },
    {
      "cell_type": "code",
      "source": [
        "# Compare accuracy with and without PII\n",
        "original_accuracy = accuracy_score(y_test, y_pred)\n",
        "no_pii_accuracy = accuracy_score(y_test_no_pii, y_pred_no_pii)\n",
        "\n",
        "print(f\"Original Model Accuracy: {original_accuracy}\")\n",
        "print(f\"Model Accuracy without PII: {no_pii_accuracy}\")\n",
        "\n",
        "if abs(original_accuracy - no_pii_accuracy) < 0.05:\n",
        "    print(\"Removing PII did not significantly affect model performance.\")\n",
        "else:\n",
        "    print(\"Removing PII had a noticeable impact on model performance.\")"
      ],
      "metadata": {
        "colab": {
          "base_uri": "https://localhost:8080/"
        },
        "id": "RVemNlejC7u0",
        "outputId": "67104734-5bda-4979-b46f-82b87c28183e"
      },
      "execution_count": 10,
      "outputs": [
        {
          "output_type": "stream",
          "name": "stdout",
          "text": [
            "Original Model Accuracy: 0.43333333333333335\n",
            "Model Accuracy without PII: 0.4\n",
            "Removing PII did not significantly affect model performance.\n"
          ]
        }
      ]
    }
  ]
}